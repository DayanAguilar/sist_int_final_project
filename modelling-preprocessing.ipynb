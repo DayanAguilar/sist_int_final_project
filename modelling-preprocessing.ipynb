{
 "cells": [
  {
   "cell_type": "code",
   "execution_count": 1,
   "metadata": {},
   "outputs": [],
   "source": [
    "import pandas as pd\n",
    "import numpy as np"
   ]
  },
  {
   "cell_type": "code",
   "execution_count": 4,
   "metadata": {},
   "outputs": [],
   "source": [
    "def limpiar_dataframe(nombre,nombre_salida):\n",
    "    df = pd.read_csv(nombre,index_col=0)\n",
    "    df[\"Arrival Delay in Minutes\"] = df[\"Arrival Delay in Minutes\"].fillna(0)\n",
    "    df = df.drop(columns=['id'])\n",
    "    #convertimos datos gender male a 0 y female a 1\n",
    "    df[\"Gender\"] = df[\"Gender\"].map({\"Male\": 0, \"Female\": 1})\n",
    "    #convertimos customer type 0 loyal customer y 1 disloyal customer\n",
    "    df[\"Customer Type\"] = df[\"Customer Type\"].map({\"Loyal Customer\": 0, \"disloyal Customer\": 1})\n",
    "    #convertimos type of travel 0 personal travel y 1 business travel\n",
    "    df[\"Type of Travel\"] = df[\"Type of Travel\"].map({\"Personal Travel\": 0, \"Business travel\": 1})\n",
    "    #convertimos class 0 business, 1 eco y 2 eco plus\n",
    "    df[\"Class\"] = df[\"Class\"].map({\"Business\": 0, \"Eco\": 1,\"Eco Plus\":2})\n",
    "    #convertimos satisfaction 0 neutral or dissatisfied y 1 satisfied\n",
    "    df[\"satisfaction\"] = df[\"satisfaction\"].map({\"neutral or dissatisfied\": 0, \"satisfied\": 1})\n",
    "    df.to_csv(nombre_salida,index=False)"
   ]
  },
  {
   "cell_type": "code",
   "execution_count": 5,
   "metadata": {},
   "outputs": [],
   "source": [
    "limpiar_dataframe(\"datasets/train.csv\",\"datasets/clean_train.csv\")\n",
    "limpiar_dataframe(\"datasets/test.csv\",\"datasets/clean_test.csv\")"
   ]
  }
 ],
 "metadata": {
  "kernelspec": {
   "display_name": "Python 3",
   "language": "python",
   "name": "python3"
  },
  "language_info": {
   "codemirror_mode": {
    "name": "ipython",
    "version": 3
   },
   "file_extension": ".py",
   "mimetype": "text/x-python",
   "name": "python",
   "nbconvert_exporter": "python",
   "pygments_lexer": "ipython3",
   "version": "3.11.9"
  }
 },
 "nbformat": 4,
 "nbformat_minor": 2
}
